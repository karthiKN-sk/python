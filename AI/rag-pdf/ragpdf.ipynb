{
 "cells": [
  {
   "cell_type": "code",
   "execution_count": 2,
   "metadata": {},
   "outputs": [
    {
     "name": "stderr",
     "output_type": "stream",
     "text": [
      "Python(99236) MallocStackLogging: can't turn off malloc stack logging because it was not enabled.\n"
     ]
    },
    {
     "name": "stdout",
     "output_type": "stream",
     "text": [
      "Requirement already satisfied: haystack-ai in /Users/grootan/Karthikeyan/SampleCodes/python/.venv/lib/python3.13/site-packages (from -r requirements.txt (line 1)) (2.13.1)\n",
      "Requirement already satisfied: pdfplumber in /Users/grootan/Karthikeyan/SampleCodes/python/.venv/lib/python3.13/site-packages (from -r requirements.txt (line 2)) (0.11.6)\n",
      "Requirement already satisfied: langchain_community in /Users/grootan/Karthikeyan/SampleCodes/python/.venv/lib/python3.13/site-packages (from -r requirements.txt (line 3)) (0.3.23)\n",
      "Requirement already satisfied: haystack-experimental in /Users/grootan/Karthikeyan/SampleCodes/python/.venv/lib/python3.13/site-packages (from haystack-ai->-r requirements.txt (line 1)) (0.9.0)\n",
      "Requirement already satisfied: jinja2 in /Users/grootan/Karthikeyan/SampleCodes/python/.venv/lib/python3.13/site-packages (from haystack-ai->-r requirements.txt (line 1)) (3.1.6)\n",
      "Requirement already satisfied: jsonschema in /Users/grootan/Karthikeyan/SampleCodes/python/.venv/lib/python3.13/site-packages (from haystack-ai->-r requirements.txt (line 1)) (4.23.0)\n",
      "Requirement already satisfied: lazy-imports in /Users/grootan/Karthikeyan/SampleCodes/python/.venv/lib/python3.13/site-packages (from haystack-ai->-r requirements.txt (line 1)) (0.4.0)\n",
      "Requirement already satisfied: more-itertools in /Users/grootan/Karthikeyan/SampleCodes/python/.venv/lib/python3.13/site-packages (from haystack-ai->-r requirements.txt (line 1)) (10.7.0)\n",
      "Requirement already satisfied: networkx in /Users/grootan/Karthikeyan/SampleCodes/python/.venv/lib/python3.13/site-packages (from haystack-ai->-r requirements.txt (line 1)) (3.4.2)\n",
      "Requirement already satisfied: numpy in /Users/grootan/Karthikeyan/SampleCodes/python/.venv/lib/python3.13/site-packages (from haystack-ai->-r requirements.txt (line 1)) (2.2.5)\n",
      "Requirement already satisfied: openai>=1.56.1 in /Users/grootan/Karthikeyan/SampleCodes/python/.venv/lib/python3.13/site-packages (from haystack-ai->-r requirements.txt (line 1)) (1.77.0)\n",
      "Requirement already satisfied: posthog!=3.12.0 in /Users/grootan/Karthikeyan/SampleCodes/python/.venv/lib/python3.13/site-packages (from haystack-ai->-r requirements.txt (line 1)) (4.0.1)\n",
      "Requirement already satisfied: pydantic in /Users/grootan/Karthikeyan/SampleCodes/python/.venv/lib/python3.13/site-packages (from haystack-ai->-r requirements.txt (line 1)) (2.11.4)\n",
      "Requirement already satisfied: python-dateutil in /Users/grootan/Karthikeyan/SampleCodes/python/.venv/lib/python3.13/site-packages (from haystack-ai->-r requirements.txt (line 1)) (2.9.0.post0)\n",
      "Requirement already satisfied: pyyaml in /Users/grootan/Karthikeyan/SampleCodes/python/.venv/lib/python3.13/site-packages (from haystack-ai->-r requirements.txt (line 1)) (6.0.2)\n",
      "Requirement already satisfied: requests in /Users/grootan/Karthikeyan/SampleCodes/python/.venv/lib/python3.13/site-packages (from haystack-ai->-r requirements.txt (line 1)) (2.32.3)\n",
      "Requirement already satisfied: tenacity!=8.4.0 in /Users/grootan/Karthikeyan/SampleCodes/python/.venv/lib/python3.13/site-packages (from haystack-ai->-r requirements.txt (line 1)) (9.1.2)\n",
      "Requirement already satisfied: tqdm in /Users/grootan/Karthikeyan/SampleCodes/python/.venv/lib/python3.13/site-packages (from haystack-ai->-r requirements.txt (line 1)) (4.67.1)\n",
      "Requirement already satisfied: typing-extensions>=4.7 in /Users/grootan/Karthikeyan/SampleCodes/python/.venv/lib/python3.13/site-packages (from haystack-ai->-r requirements.txt (line 1)) (4.13.2)\n",
      "Requirement already satisfied: pdfminer.six==20250327 in /Users/grootan/Karthikeyan/SampleCodes/python/.venv/lib/python3.13/site-packages (from pdfplumber->-r requirements.txt (line 2)) (20250327)\n",
      "Requirement already satisfied: Pillow>=9.1 in /Users/grootan/Karthikeyan/SampleCodes/python/.venv/lib/python3.13/site-packages (from pdfplumber->-r requirements.txt (line 2)) (11.2.1)\n",
      "Requirement already satisfied: pypdfium2>=4.18.0 in /Users/grootan/Karthikeyan/SampleCodes/python/.venv/lib/python3.13/site-packages (from pdfplumber->-r requirements.txt (line 2)) (4.30.1)\n",
      "Requirement already satisfied: charset-normalizer>=2.0.0 in /Users/grootan/Karthikeyan/SampleCodes/python/.venv/lib/python3.13/site-packages (from pdfminer.six==20250327->pdfplumber->-r requirements.txt (line 2)) (3.4.1)\n",
      "Requirement already satisfied: cryptography>=36.0.0 in /Users/grootan/Karthikeyan/SampleCodes/python/.venv/lib/python3.13/site-packages (from pdfminer.six==20250327->pdfplumber->-r requirements.txt (line 2)) (44.0.3)\n",
      "Requirement already satisfied: langchain-core<1.0.0,>=0.3.56 in /Users/grootan/Karthikeyan/SampleCodes/python/.venv/lib/python3.13/site-packages (from langchain_community->-r requirements.txt (line 3)) (0.3.59)\n",
      "Requirement already satisfied: langchain<1.0.0,>=0.3.24 in /Users/grootan/Karthikeyan/SampleCodes/python/.venv/lib/python3.13/site-packages (from langchain_community->-r requirements.txt (line 3)) (0.3.25)\n",
      "Requirement already satisfied: SQLAlchemy<3,>=1.4 in /Users/grootan/Karthikeyan/SampleCodes/python/.venv/lib/python3.13/site-packages (from langchain_community->-r requirements.txt (line 3)) (2.0.40)\n",
      "Requirement already satisfied: aiohttp<4.0.0,>=3.8.3 in /Users/grootan/Karthikeyan/SampleCodes/python/.venv/lib/python3.13/site-packages (from langchain_community->-r requirements.txt (line 3)) (3.11.18)\n",
      "Requirement already satisfied: dataclasses-json<0.7,>=0.5.7 in /Users/grootan/Karthikeyan/SampleCodes/python/.venv/lib/python3.13/site-packages (from langchain_community->-r requirements.txt (line 3)) (0.6.7)\n",
      "Requirement already satisfied: pydantic-settings<3.0.0,>=2.4.0 in /Users/grootan/Karthikeyan/SampleCodes/python/.venv/lib/python3.13/site-packages (from langchain_community->-r requirements.txt (line 3)) (2.9.1)\n",
      "Requirement already satisfied: langsmith<0.4,>=0.1.125 in /Users/grootan/Karthikeyan/SampleCodes/python/.venv/lib/python3.13/site-packages (from langchain_community->-r requirements.txt (line 3)) (0.3.42)\n",
      "Requirement already satisfied: httpx-sse<1.0.0,>=0.4.0 in /Users/grootan/Karthikeyan/SampleCodes/python/.venv/lib/python3.13/site-packages (from langchain_community->-r requirements.txt (line 3)) (0.4.0)\n",
      "Requirement already satisfied: aiohappyeyeballs>=2.3.0 in /Users/grootan/Karthikeyan/SampleCodes/python/.venv/lib/python3.13/site-packages (from aiohttp<4.0.0,>=3.8.3->langchain_community->-r requirements.txt (line 3)) (2.6.1)\n",
      "Requirement already satisfied: aiosignal>=1.1.2 in /Users/grootan/Karthikeyan/SampleCodes/python/.venv/lib/python3.13/site-packages (from aiohttp<4.0.0,>=3.8.3->langchain_community->-r requirements.txt (line 3)) (1.3.2)\n",
      "Requirement already satisfied: attrs>=17.3.0 in /Users/grootan/Karthikeyan/SampleCodes/python/.venv/lib/python3.13/site-packages (from aiohttp<4.0.0,>=3.8.3->langchain_community->-r requirements.txt (line 3)) (25.3.0)\n",
      "Requirement already satisfied: frozenlist>=1.1.1 in /Users/grootan/Karthikeyan/SampleCodes/python/.venv/lib/python3.13/site-packages (from aiohttp<4.0.0,>=3.8.3->langchain_community->-r requirements.txt (line 3)) (1.6.0)\n",
      "Requirement already satisfied: multidict<7.0,>=4.5 in /Users/grootan/Karthikeyan/SampleCodes/python/.venv/lib/python3.13/site-packages (from aiohttp<4.0.0,>=3.8.3->langchain_community->-r requirements.txt (line 3)) (6.4.3)\n",
      "Requirement already satisfied: propcache>=0.2.0 in /Users/grootan/Karthikeyan/SampleCodes/python/.venv/lib/python3.13/site-packages (from aiohttp<4.0.0,>=3.8.3->langchain_community->-r requirements.txt (line 3)) (0.3.1)\n",
      "Requirement already satisfied: yarl<2.0,>=1.17.0 in /Users/grootan/Karthikeyan/SampleCodes/python/.venv/lib/python3.13/site-packages (from aiohttp<4.0.0,>=3.8.3->langchain_community->-r requirements.txt (line 3)) (1.20.0)\n",
      "Requirement already satisfied: marshmallow<4.0.0,>=3.18.0 in /Users/grootan/Karthikeyan/SampleCodes/python/.venv/lib/python3.13/site-packages (from dataclasses-json<0.7,>=0.5.7->langchain_community->-r requirements.txt (line 3)) (3.26.1)\n",
      "Requirement already satisfied: typing-inspect<1,>=0.4.0 in /Users/grootan/Karthikeyan/SampleCodes/python/.venv/lib/python3.13/site-packages (from dataclasses-json<0.7,>=0.5.7->langchain_community->-r requirements.txt (line 3)) (0.9.0)\n",
      "Requirement already satisfied: langchain-text-splitters<1.0.0,>=0.3.8 in /Users/grootan/Karthikeyan/SampleCodes/python/.venv/lib/python3.13/site-packages (from langchain<1.0.0,>=0.3.24->langchain_community->-r requirements.txt (line 3)) (0.3.8)\n",
      "Requirement already satisfied: jsonpatch<2.0,>=1.33 in /Users/grootan/Karthikeyan/SampleCodes/python/.venv/lib/python3.13/site-packages (from langchain-core<1.0.0,>=0.3.56->langchain_community->-r requirements.txt (line 3)) (1.33)\n",
      "Requirement already satisfied: packaging<25,>=23.2 in /Users/grootan/Karthikeyan/SampleCodes/python/.venv/lib/python3.13/site-packages (from langchain-core<1.0.0,>=0.3.56->langchain_community->-r requirements.txt (line 3)) (24.2)\n",
      "Requirement already satisfied: httpx<1,>=0.23.0 in /Users/grootan/Karthikeyan/SampleCodes/python/.venv/lib/python3.13/site-packages (from langsmith<0.4,>=0.1.125->langchain_community->-r requirements.txt (line 3)) (0.28.1)\n",
      "Requirement already satisfied: orjson<4.0.0,>=3.9.14 in /Users/grootan/Karthikeyan/SampleCodes/python/.venv/lib/python3.13/site-packages (from langsmith<0.4,>=0.1.125->langchain_community->-r requirements.txt (line 3)) (3.10.18)\n",
      "Requirement already satisfied: requests-toolbelt<2.0.0,>=1.0.0 in /Users/grootan/Karthikeyan/SampleCodes/python/.venv/lib/python3.13/site-packages (from langsmith<0.4,>=0.1.125->langchain_community->-r requirements.txt (line 3)) (1.0.0)\n",
      "Requirement already satisfied: zstandard<0.24.0,>=0.23.0 in /Users/grootan/Karthikeyan/SampleCodes/python/.venv/lib/python3.13/site-packages (from langsmith<0.4,>=0.1.125->langchain_community->-r requirements.txt (line 3)) (0.23.0)\n",
      "Requirement already satisfied: anyio<5,>=3.5.0 in /Users/grootan/Karthikeyan/SampleCodes/python/.venv/lib/python3.13/site-packages (from openai>=1.56.1->haystack-ai->-r requirements.txt (line 1)) (4.9.0)\n",
      "Requirement already satisfied: distro<2,>=1.7.0 in /Users/grootan/Karthikeyan/SampleCodes/python/.venv/lib/python3.13/site-packages (from openai>=1.56.1->haystack-ai->-r requirements.txt (line 1)) (1.9.0)\n",
      "Requirement already satisfied: jiter<1,>=0.4.0 in /Users/grootan/Karthikeyan/SampleCodes/python/.venv/lib/python3.13/site-packages (from openai>=1.56.1->haystack-ai->-r requirements.txt (line 1)) (0.9.0)\n",
      "Requirement already satisfied: sniffio in /Users/grootan/Karthikeyan/SampleCodes/python/.venv/lib/python3.13/site-packages (from openai>=1.56.1->haystack-ai->-r requirements.txt (line 1)) (1.3.1)\n",
      "Requirement already satisfied: six>=1.5 in /Users/grootan/Karthikeyan/SampleCodes/python/.venv/lib/python3.13/site-packages (from posthog!=3.12.0->haystack-ai->-r requirements.txt (line 1)) (1.17.0)\n",
      "Requirement already satisfied: backoff>=1.10.0 in /Users/grootan/Karthikeyan/SampleCodes/python/.venv/lib/python3.13/site-packages (from posthog!=3.12.0->haystack-ai->-r requirements.txt (line 1)) (2.2.1)\n",
      "Requirement already satisfied: annotated-types>=0.6.0 in /Users/grootan/Karthikeyan/SampleCodes/python/.venv/lib/python3.13/site-packages (from pydantic->haystack-ai->-r requirements.txt (line 1)) (0.7.0)\n",
      "Requirement already satisfied: pydantic-core==2.33.2 in /Users/grootan/Karthikeyan/SampleCodes/python/.venv/lib/python3.13/site-packages (from pydantic->haystack-ai->-r requirements.txt (line 1)) (2.33.2)\n",
      "Requirement already satisfied: typing-inspection>=0.4.0 in /Users/grootan/Karthikeyan/SampleCodes/python/.venv/lib/python3.13/site-packages (from pydantic->haystack-ai->-r requirements.txt (line 1)) (0.4.0)\n",
      "Requirement already satisfied: python-dotenv>=0.21.0 in /Users/grootan/Karthikeyan/SampleCodes/python/.venv/lib/python3.13/site-packages (from pydantic-settings<3.0.0,>=2.4.0->langchain_community->-r requirements.txt (line 3)) (1.1.0)\n",
      "Requirement already satisfied: idna<4,>=2.5 in /Users/grootan/Karthikeyan/SampleCodes/python/.venv/lib/python3.13/site-packages (from requests->haystack-ai->-r requirements.txt (line 1)) (3.10)\n",
      "Requirement already satisfied: urllib3<3,>=1.21.1 in /Users/grootan/Karthikeyan/SampleCodes/python/.venv/lib/python3.13/site-packages (from requests->haystack-ai->-r requirements.txt (line 1)) (2.4.0)\n",
      "Requirement already satisfied: certifi>=2017.4.17 in /Users/grootan/Karthikeyan/SampleCodes/python/.venv/lib/python3.13/site-packages (from requests->haystack-ai->-r requirements.txt (line 1)) (2025.1.31)\n",
      "Requirement already satisfied: MarkupSafe>=2.0 in /Users/grootan/Karthikeyan/SampleCodes/python/.venv/lib/python3.13/site-packages (from jinja2->haystack-ai->-r requirements.txt (line 1)) (3.0.2)\n",
      "Requirement already satisfied: jsonschema-specifications>=2023.03.6 in /Users/grootan/Karthikeyan/SampleCodes/python/.venv/lib/python3.13/site-packages (from jsonschema->haystack-ai->-r requirements.txt (line 1)) (2025.4.1)\n",
      "Requirement already satisfied: referencing>=0.28.4 in /Users/grootan/Karthikeyan/SampleCodes/python/.venv/lib/python3.13/site-packages (from jsonschema->haystack-ai->-r requirements.txt (line 1)) (0.36.2)\n",
      "Requirement already satisfied: rpds-py>=0.7.1 in /Users/grootan/Karthikeyan/SampleCodes/python/.venv/lib/python3.13/site-packages (from jsonschema->haystack-ai->-r requirements.txt (line 1)) (0.24.0)\n",
      "Requirement already satisfied: cffi>=1.12 in /Users/grootan/Karthikeyan/SampleCodes/python/.venv/lib/python3.13/site-packages (from cryptography>=36.0.0->pdfminer.six==20250327->pdfplumber->-r requirements.txt (line 2)) (1.17.1)\n",
      "Requirement already satisfied: httpcore==1.* in /Users/grootan/Karthikeyan/SampleCodes/python/.venv/lib/python3.13/site-packages (from httpx<1,>=0.23.0->langsmith<0.4,>=0.1.125->langchain_community->-r requirements.txt (line 3)) (1.0.9)\n",
      "Requirement already satisfied: h11>=0.16 in /Users/grootan/Karthikeyan/SampleCodes/python/.venv/lib/python3.13/site-packages (from httpcore==1.*->httpx<1,>=0.23.0->langsmith<0.4,>=0.1.125->langchain_community->-r requirements.txt (line 3)) (0.16.0)\n",
      "Requirement already satisfied: jsonpointer>=1.9 in /Users/grootan/Karthikeyan/SampleCodes/python/.venv/lib/python3.13/site-packages (from jsonpatch<2.0,>=1.33->langchain-core<1.0.0,>=0.3.56->langchain_community->-r requirements.txt (line 3)) (3.0.0)\n",
      "Requirement already satisfied: mypy-extensions>=0.3.0 in /Users/grootan/Karthikeyan/SampleCodes/python/.venv/lib/python3.13/site-packages (from typing-inspect<1,>=0.4.0->dataclasses-json<0.7,>=0.5.7->langchain_community->-r requirements.txt (line 3)) (1.1.0)\n",
      "Requirement already satisfied: pycparser in /Users/grootan/Karthikeyan/SampleCodes/python/.venv/lib/python3.13/site-packages (from cffi>=1.12->cryptography>=36.0.0->pdfminer.six==20250327->pdfplumber->-r requirements.txt (line 2)) (2.22)\n",
      "\n",
      "\u001b[1m[\u001b[0m\u001b[34;49mnotice\u001b[0m\u001b[1;39;49m]\u001b[0m\u001b[39;49m A new release of pip is available: \u001b[0m\u001b[31;49m25.0.1\u001b[0m\u001b[39;49m -> \u001b[0m\u001b[32;49m25.1.1\u001b[0m\n",
      "\u001b[1m[\u001b[0m\u001b[34;49mnotice\u001b[0m\u001b[1;39;49m]\u001b[0m\u001b[39;49m To update, run: \u001b[0m\u001b[32;49mpip install --upgrade pip\u001b[0m\n",
      "Note: you may need to restart the kernel to use updated packages.\n"
     ]
    }
   ],
   "source": [
    "%pip install -r requirements.txt"
   ]
  },
  {
   "cell_type": "code",
   "execution_count": 1,
   "metadata": {},
   "outputs": [
    {
     "name": "stderr",
     "output_type": "stream",
     "text": [
      "/var/folders/zg/s0x_7j4x0sbcmwzc57b47b540000gp/T/ipykernel_99199/1837440852.py:5: LangChainDeprecationWarning: The class `Ollama` was deprecated in LangChain 0.3.1 and will be removed in 1.0.0. An updated version of the class exists in the :class:`~langchain-ollama package and should be used instead. To use it run `pip install -U :class:`~langchain-ollama` and import as `from :class:`~langchain_ollama import OllamaLLM``.\n",
      "  model = Ollama(model= MODEL)\n"
     ]
    },
    {
     "data": {
      "text/plain": [
       "\"Why don't eggs tell jokes?\\n\\nBecause they'd crack each other up!\""
      ]
     },
     "execution_count": 1,
     "metadata": {},
     "output_type": "execute_result"
    }
   ],
   "source": [
    "from langchain_community.llms import Ollama\n",
    "\n",
    "MODEL = \"llama3.2\"\n",
    "\n",
    "model = Ollama(model= MODEL)\n",
    "\n",
    "model.invoke(\"Tell me a joke\")\n"
   ]
  }
 ],
 "metadata": {
  "kernelspec": {
   "display_name": ".venv",
   "language": "python",
   "name": "python3"
  },
  "language_info": {
   "codemirror_mode": {
    "name": "ipython",
    "version": 3
   },
   "file_extension": ".py",
   "mimetype": "text/x-python",
   "name": "python",
   "nbconvert_exporter": "python",
   "pygments_lexer": "ipython3",
   "version": "3.13.3"
  }
 },
 "nbformat": 4,
 "nbformat_minor": 2
}
